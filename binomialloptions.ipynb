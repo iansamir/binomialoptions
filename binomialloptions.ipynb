{
  "nbformat": 4,
  "nbformat_minor": 0,
  "metadata": {
    "colab": {
      "name": "binomialloptions.ipynb",
      "provenance": []
    },
    "kernelspec": {
      "name": "python3",
      "display_name": "Python 3"
    }
  },
  "cells": [
    {
      "cell_type": "code",
      "metadata": {
        "id": "W8iSMow2cp_q"
      },
      "source": [
        "# Calculate the possible option values\n",
        "import numpy as np \n",
        "def payoffs(o, X, S, u, d, n): \n",
        "  p = []\n",
        "  if o == 'call': \n",
        "    for i in range(n + 1):\n",
        "      p.append(max(S*np.power(u, i)*np.power(d, n-i) - X, 0))\n",
        "  else:\n",
        "    for i in range(n + 1):\n",
        "      p.append(max(X - S*np.power(u, i)*np.power(d, n-i), 0))\n",
        "  return p"
      ],
      "execution_count": 22,
      "outputs": []
    },
    {
      "cell_type": "code",
      "metadata": {
        "id": "FD4Eszsid1Bj",
        "outputId": "bce65548-0143-4a77-f471-558e4ae0d063",
        "colab": {
          "base_uri": "https://localhost:8080/"
        }
      },
      "source": [
        "payoffs('put', 100, 100, 1.05, 0.95, 2)"
      ],
      "execution_count": 46,
      "outputs": [
        {
          "output_type": "execute_result",
          "data": {
            "text/plain": [
              "[9.75, 0.25, 0]"
            ]
          },
          "metadata": {
            "tags": []
          },
          "execution_count": 46
        }
      ]
    },
    {
      "cell_type": "code",
      "metadata": {
        "id": "faSAENKuf5tb"
      },
      "source": [
        "# Calculate the fair value of the option\n",
        "import math\n",
        "\n",
        "def binom(n, k):\n",
        "    return math.factorial(n) // math.factorial(k) // math.factorial(n - k)\n",
        "\n",
        "def value(o, X, S, u, d, n, r): \n",
        "  value = 0 \n",
        "  riskp = (r - d)/(u - d)\n",
        "\n",
        "  k = 0\n",
        "  while k < n + 1:\n",
        "    value += payoffs(o, X, S, u, d, n)[k] * binom(n, k) * np.power(riskp, k) * np.power(1 - riskp, n-k)\n",
        "    k += 1\n",
        "  \n",
        "  return value/(np.power(r, n))\n"
      ],
      "execution_count": 52,
      "outputs": []
    },
    {
      "cell_type": "code",
      "metadata": {
        "id": "2dus_RZFhMs3"
      },
      "source": [
        "o = input('What kind of option is it? ')\n",
        "X = float(input('Strike? '))\n",
        "S = float(input('Current? '))\n",
        "u = float(input('u? ex. 1.05 '))\n",
        "d = float(input('d? ex. 0.95 '))\n",
        "n = int(input('Periods? '))\n",
        "r = float(input('r? ex. 1.02 '))\n",
        "\n",
        "print('')\n",
        "print('The ' + o + ' is valued at ' + str(value(o, X, S, u, d, n, r)))"
      ],
      "execution_count": null,
      "outputs": []
    }
  ]
}